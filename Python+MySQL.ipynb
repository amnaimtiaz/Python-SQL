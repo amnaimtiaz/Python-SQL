{
 "cells": [
  {
   "cell_type": "code",
   "execution_count": 1,
   "id": "6b0c14f7",
   "metadata": {},
   "outputs": [],
   "source": [
    "import pandas as pd\n",
    "import matplotlib.pyplot as plt\n",
    "import seaborn as sns\n",
    "import mysql.connector\n",
    "import numpy as np \n",
    "db = mysql.connector.connect(host = \"localhost\",\n",
    "                            username = \"root\",\n",
    "                            password = \"########\",\n",
    "                            database = \"ecommerce_project\")\n",
    "\n",
    "cur = db.cursor()\n"
   ]
  },
  {
   "cell_type": "markdown",
   "id": "ca61a2af",
   "metadata": {},
   "source": [
    "# Count all unique cities where customers are located."
   ]
  },
  {
   "cell_type": "code",
   "execution_count": 16,
   "id": "d9cd4828",
   "metadata": {},
   "outputs": [
    {
     "name": "stdout",
     "output_type": "stream",
     "text": [
      "The total number of unique cities are 99441\n"
     ]
    }
   ],
   "source": [
    "query = \"\"\"select count(customer_city) from customers\"\"\"\n",
    "cur.execute(query)\n",
    "data = cur.fetchall()\n",
    "print(f'The total number of unique cities are {data[0][0]}')"
   ]
  },
  {
   "cell_type": "markdown",
   "id": "5dba0c69",
   "metadata": {},
   "source": [
    "# Count the number of orders placed in 2017."
   ]
  },
  {
   "cell_type": "code",
   "execution_count": 18,
   "id": "4cc36ea6",
   "metadata": {},
   "outputs": [
    {
     "name": "stdout",
     "output_type": "stream",
     "text": [
      "Count of the number of orders placed in 2017 are 45101\n"
     ]
    }
   ],
   "source": [
    "query = \"\"\"select count(order_id) from orders where year(order_purchase_timestamp) = 2017 \"\"\"\n",
    "cur.execute(query)\n",
    "data = cur.fetchall()\n",
    "print(f'Count of the number of orders placed in 2017 are {data[0][0]}')"
   ]
  },
  {
   "cell_type": "markdown",
   "id": "5c5c9180",
   "metadata": {},
   "source": [
    "# Find the total sales per category."
   ]
  },
  {
   "cell_type": "code",
   "execution_count": 29,
   "id": "637b29ea",
   "metadata": {},
   "outputs": [
    {
     "data": {
      "text/html": [
       "<div>\n",
       "<style scoped>\n",
       "    .dataframe tbody tr th:only-of-type {\n",
       "        vertical-align: middle;\n",
       "    }\n",
       "\n",
       "    .dataframe tbody tr th {\n",
       "        vertical-align: top;\n",
       "    }\n",
       "\n",
       "    .dataframe thead th {\n",
       "        text-align: right;\n",
       "    }\n",
       "</style>\n",
       "<table border=\"1\" class=\"dataframe\">\n",
       "  <thead>\n",
       "    <tr style=\"text-align: right;\">\n",
       "      <th></th>\n",
       "      <th>product_category</th>\n",
       "      <th>sales</th>\n",
       "    </tr>\n",
       "  </thead>\n",
       "  <tbody>\n",
       "    <tr>\n",
       "      <th>0</th>\n",
       "      <td>HEALTH BEAUTY</td>\n",
       "      <td>1441248.07</td>\n",
       "    </tr>\n",
       "    <tr>\n",
       "      <th>1</th>\n",
       "      <td>sport leisure</td>\n",
       "      <td>1156656.48</td>\n",
       "    </tr>\n",
       "    <tr>\n",
       "      <th>2</th>\n",
       "      <td>Cool Stuff</td>\n",
       "      <td>719329.95</td>\n",
       "    </tr>\n",
       "    <tr>\n",
       "      <th>3</th>\n",
       "      <td>computer accessories</td>\n",
       "      <td>1059272.40</td>\n",
       "    </tr>\n",
       "    <tr>\n",
       "      <th>4</th>\n",
       "      <td>Watches present</td>\n",
       "      <td>1305541.61</td>\n",
       "    </tr>\n",
       "    <tr>\n",
       "      <th>...</th>\n",
       "      <td>...</td>\n",
       "      <td>...</td>\n",
       "    </tr>\n",
       "    <tr>\n",
       "      <th>68</th>\n",
       "      <td>flowers</td>\n",
       "      <td>1598.91</td>\n",
       "    </tr>\n",
       "    <tr>\n",
       "      <th>69</th>\n",
       "      <td>Kitchen portable and food coach</td>\n",
       "      <td>4278.29</td>\n",
       "    </tr>\n",
       "    <tr>\n",
       "      <th>70</th>\n",
       "      <td>House Comfort 2</td>\n",
       "      <td>1170.58</td>\n",
       "    </tr>\n",
       "    <tr>\n",
       "      <th>71</th>\n",
       "      <td>CITTE AND UPHACK FURNITURE</td>\n",
       "      <td>5998.54</td>\n",
       "    </tr>\n",
       "    <tr>\n",
       "      <th>72</th>\n",
       "      <td>cds music dvds</td>\n",
       "      <td>954.99</td>\n",
       "    </tr>\n",
       "  </tbody>\n",
       "</table>\n",
       "<p>73 rows × 2 columns</p>\n",
       "</div>"
      ],
      "text/plain": [
       "                   product_category       sales\n",
       "0                     HEALTH BEAUTY  1441248.07\n",
       "1                     sport leisure  1156656.48\n",
       "2                        Cool Stuff   719329.95\n",
       "3              computer accessories  1059272.40\n",
       "4                   Watches present  1305541.61\n",
       "..                              ...         ...\n",
       "68                          flowers     1598.91\n",
       "69  Kitchen portable and food coach     4278.29\n",
       "70                  House Comfort 2     1170.58\n",
       "71       CITTE AND UPHACK FURNITURE     5998.54\n",
       "72                   cds music dvds      954.99\n",
       "\n",
       "[73 rows x 2 columns]"
      ]
     },
     "execution_count": 29,
     "metadata": {},
     "output_type": "execute_result"
    }
   ],
   "source": [
    "query = \"\"\" SELECT products.product_category, round(SUM(order_items.price + order_items.freight_value),2) AS sales\n",
    "FROM order_items\n",
    "JOIN products ON order_items.product_id = products.product_id\n",
    "GROUP BY products.product_category; \"\"\"\n",
    "cur.execute(query)\n",
    "data = cur.fetchall()\n",
    "data\n",
    "df = pd.DataFrame(data, columns = [\"product_category\", \"sales\"])\n",
    "df"
   ]
  },
  {
   "cell_type": "markdown",
   "id": "b3bbc89a",
   "metadata": {},
   "source": [
    "# Calculate the percentage of orders that were paid in installments."
   ]
  },
  {
   "cell_type": "code",
   "execution_count": 33,
   "id": "1b6d1965",
   "metadata": {},
   "outputs": [
    {
     "name": "stdout",
     "output_type": "stream",
     "text": [
      "the percentage of installments orders is 49.4176 percent\n"
     ]
    }
   ],
   "source": [
    "query = \"\"\" select (SELECT COUNT(payment_installments) from payments where payment_installments > 1)/COUNT(ORDER_ID)*100 \n",
    "AS PERCENTAGE FROM PAYMENTS;\n",
    " \"\"\"\n",
    "cur.execute(query)\n",
    "data = cur.fetchall()\n",
    "print(f'the percentage of installments orders is {data[0][0]} percent')"
   ]
  },
  {
   "cell_type": "markdown",
   "id": "e8b36294",
   "metadata": {},
   "source": [
    "# Count the number of customers from each state. "
   ]
  },
  {
   "cell_type": "code",
   "execution_count": 13,
   "id": "0409aae0",
   "metadata": {},
   "outputs": [
    {
     "data": {
      "image/png": "[encoded data removed]",
      "text/plain": [
       "<Figure size 432x288 with 1 Axes>"
      ]
     },
     "metadata": {
      "needs_background": "light"
     },
     "output_type": "display_data"
    }
   ],
   "source": [
    "query = \"\"\" \n",
    "select count(*) as countt, customer_state from customers group by customer_state order by countt desc ;\"\"\"\n",
    "cur.execute(query)\n",
    "data = cur.fetchall()\n",
    "data\n",
    "df = pd.DataFrame(data,columns = [\"Total_Customers\", \"City\"])\n",
    "df\n",
    "plt.bar(df['City'], df[\"Total_Customers\"])\n",
    "plt.xticks(rotation=90)\n",
    "plt.show()"
   ]
  },
  {
   "cell_type": "markdown",
   "id": "bcd879d1",
   "metadata": {},
   "source": [
    "# Calculate the number of orders per month in 2018."
   ]
  },
  {
   "cell_type": "code",
   "execution_count": 13,
   "id": "86563350",
   "metadata": {},
   "outputs": [
    {
     "data": {
      "image/png": "[encoded data removed]",
      "text/plain": [
       "<Figure size 432x288 with 1 Axes>"
      ]
     },
     "metadata": {
      "needs_background": "light"
     },
     "output_type": "display_data"
    }
   ],
   "source": [
    "query = \"\"\" \n",
    "\n",
    "select count(*) as orders_count, monthname(order_purchase_timestamp) \n",
    "as months from orders where year(order_purchase_timestamp) = 2018\n",
    " group by months order by orders_count desc;\n",
    " \n",
    " \"\"\"\n",
    "cur.execute(query)\n",
    "data = cur.fetchall()\n",
    "data\n",
    "df = pd.DataFrame(data,columns = [\"total_orders\", \"month\"])\n",
    "df\n",
    "plt.bar(df[\"month\"],df[\"total_orders\"])\n",
    "plt.xticks(rotation = 90)\n",
    "plt.title(\"MonthlyWise orders in 2018\")\n",
    "plt.show()"
   ]
  },
  {
   "cell_type": "markdown",
   "id": "af7d2d5e",
   "metadata": {},
   "source": [
    "# Calculate the percentage of total revenue contributed by each product category."
   ]
  },
  {
   "cell_type": "code",
   "execution_count": 22,
   "id": "508ebca9",
   "metadata": {},
   "outputs": [
    {
     "data": {
      "text/html": [
       "<div>\n",
       "<style scoped>\n",
       "    .dataframe tbody tr th:only-of-type {\n",
       "        vertical-align: middle;\n",
       "    }\n",
       "\n",
       "    .dataframe tbody tr th {\n",
       "        vertical-align: top;\n",
       "    }\n",
       "\n",
       "    .dataframe thead th {\n",
       "        text-align: right;\n",
       "    }\n",
       "</style>\n",
       "<table border=\"1\" class=\"dataframe\">\n",
       "  <thead>\n",
       "    <tr style=\"text-align: right;\">\n",
       "      <th></th>\n",
       "      <th>product_category</th>\n",
       "      <th>average</th>\n",
       "    </tr>\n",
       "  </thead>\n",
       "  <tbody>\n",
       "    <tr>\n",
       "      <th>0</th>\n",
       "      <td>HEALTH BEAUTY</td>\n",
       "      <td>9.218744</td>\n",
       "    </tr>\n",
       "    <tr>\n",
       "      <th>1</th>\n",
       "      <td>sport leisure</td>\n",
       "      <td>7.398393</td>\n",
       "    </tr>\n",
       "    <tr>\n",
       "      <th>2</th>\n",
       "      <td>Cool Stuff</td>\n",
       "      <td>4.601095</td>\n",
       "    </tr>\n",
       "    <tr>\n",
       "      <th>3</th>\n",
       "      <td>computer accessories</td>\n",
       "      <td>6.775490</td>\n",
       "    </tr>\n",
       "    <tr>\n",
       "      <th>4</th>\n",
       "      <td>Watches present</td>\n",
       "      <td>8.350717</td>\n",
       "    </tr>\n",
       "    <tr>\n",
       "      <th>...</th>\n",
       "      <td>...</td>\n",
       "      <td>...</td>\n",
       "    </tr>\n",
       "    <tr>\n",
       "      <th>68</th>\n",
       "      <td>flowers</td>\n",
       "      <td>0.010227</td>\n",
       "    </tr>\n",
       "    <tr>\n",
       "      <th>69</th>\n",
       "      <td>Kitchen portable and food coach</td>\n",
       "      <td>0.027365</td>\n",
       "    </tr>\n",
       "    <tr>\n",
       "      <th>70</th>\n",
       "      <td>House Comfort 2</td>\n",
       "      <td>0.007487</td>\n",
       "    </tr>\n",
       "    <tr>\n",
       "      <th>71</th>\n",
       "      <td>CITTE AND UPHACK FURNITURE</td>\n",
       "      <td>0.038369</td>\n",
       "    </tr>\n",
       "    <tr>\n",
       "      <th>72</th>\n",
       "      <td>cds music dvds</td>\n",
       "      <td>0.006108</td>\n",
       "    </tr>\n",
       "  </tbody>\n",
       "</table>\n",
       "<p>73 rows × 2 columns</p>\n",
       "</div>"
      ],
      "text/plain": [
       "                   product_category   average\n",
       "0                     HEALTH BEAUTY  9.218744\n",
       "1                     sport leisure  7.398393\n",
       "2                        Cool Stuff  4.601095\n",
       "3              computer accessories  6.775490\n",
       "4                   Watches present  8.350717\n",
       "..                              ...       ...\n",
       "68                          flowers  0.010227\n",
       "69  Kitchen portable and food coach  0.027365\n",
       "70                  House Comfort 2  0.007487\n",
       "71       CITTE AND UPHACK FURNITURE  0.038369\n",
       "72                   cds music dvds  0.006108\n",
       "\n",
       "[73 rows x 2 columns]"
      ]
     },
     "execution_count": 22,
     "metadata": {},
     "output_type": "execute_result"
    }
   ],
   "source": [
    " query = \"\"\" \n",
    "\n",
    "\n",
    "select product_category, (sum(revenue)/(select sum(revenue)from prodcut_revenue)) *100 from prodcut_revenue \n",
    "group by product_category;\n",
    " \n",
    " \"\"\"\n",
    "cur.execute(query)\n",
    "data = cur.fetchall()\n",
    "data\n",
    "df = pd.DataFrame(data, columns = [\"product_category\", \"average\"])\n",
    "df"
   ]
  },
  {
   "cell_type": "markdown",
   "id": "e2ab43fa",
   "metadata": {},
   "source": [
    "# Identify the correlation between product price and the number of times a product has been purchased."
   ]
  },
  {
   "cell_type": "code",
   "execution_count": 30,
   "id": "49aa3b13",
   "metadata": {},
   "outputs": [
    {
     "data": {
      "text/plain": [
       "array([[ 1.        , -0.10628612],\n",
       "       [-0.10628612,  1.        ]])"
      ]
     },
     "execution_count": 30,
     "metadata": {},
     "output_type": "execute_result"
    }
   ],
   "source": [
    " query = \"\"\" \n",
    "\n",
    "select products.product_category, count(order_items.product_id) as total_orders, round(avg(order_items.price),2) as price\n",
    "from products join order_items\n",
    "on products.product_id = order_items.product_id\n",
    "group by products.product_category\n",
    " \n",
    " \"\"\"\n",
    "cur.execute(query)\n",
    "data = cur.fetchall()\n",
    "data\n",
    "df = pd.DataFrame(data, columns = [\"product_category\",\"total_orders\", \"price\"])\n",
    "df\n",
    "np.corrcoef([df[\"total_orders\"], df[\"price\"]])\n",
    "\n",
    "# No relation between orders and price "
   ]
  },
  {
   "cell_type": "markdown",
   "id": "c7b3d208",
   "metadata": {},
   "source": [
    "# Calculate the total revenue generated by each seller, and rank them by revenue."
   ]
  },
  {
   "cell_type": "code",
   "execution_count": 12,
   "id": "0e3e0880",
   "metadata": {},
   "outputs": [
    {
     "data": {
      "image/png": "[encoded data removed]",
      "text/plain": [
       "<Figure size 432x288 with 1 Axes>"
      ]
     },
     "metadata": {
      "needs_background": "light"
     },
     "output_type": "display_data"
    }
   ],
   "source": [
    " query = \"\"\" \n",
    "\n",
    "\n",
    "select *, dense_rank()over(order by revenue desc) as rankk from \n",
    "(select order_items.seller_id, round(sum(payments.payment_value),2) as revenue from order_items join payments \n",
    "on order_items.order_id = payments.order_id\n",
    "group by order_items.seller_id) as t;\n",
    " \n",
    " \"\"\"\n",
    "cur.execute(query)\n",
    "data = cur.fetchall()\n",
    "data\n",
    "df = pd.DataFrame(data,columns = [\"Seller_id\",\"Revenue\",\"Rank\"])\n",
    "dframe = df.head()\n",
    "\n",
    "sns.barplot(x = 'Seller_id', y = 'Revenue', data = dframe)\n",
    "plt.xticks(rotation = 90)\n",
    "plt.title('Top 5 Sellers')\n",
    "plt.show()\n"
   ]
  },
  {
   "cell_type": "markdown",
   "id": "c4384b93",
   "metadata": {},
   "source": [
    "# Calculate the moving average of order values for each customer over their order history."
   ]
  },
  {
   "cell_type": "code",
   "execution_count": 16,
   "id": "4be90483",
   "metadata": {},
   "outputs": [
    {
     "data": {
      "text/html": [
       "<div>\n",
       "<style scoped>\n",
       "    .dataframe tbody tr th:only-of-type {\n",
       "        vertical-align: middle;\n",
       "    }\n",
       "\n",
       "    .dataframe tbody tr th {\n",
       "        vertical-align: top;\n",
       "    }\n",
       "\n",
       "    .dataframe thead th {\n",
       "        text-align: right;\n",
       "    }\n",
       "</style>\n",
       "<table border=\"1\" class=\"dataframe\">\n",
       "  <thead>\n",
       "    <tr style=\"text-align: right;\">\n",
       "      <th></th>\n",
       "      <th>customer_id</th>\n",
       "      <th>date</th>\n",
       "      <th>moving_avg</th>\n",
       "    </tr>\n",
       "  </thead>\n",
       "  <tbody>\n",
       "    <tr>\n",
       "      <th>0</th>\n",
       "      <td>00012a2ce6f8dcda20d059ce98491703</td>\n",
       "      <td>2017-11-14 16:08:26</td>\n",
       "      <td>114.74</td>\n",
       "    </tr>\n",
       "    <tr>\n",
       "      <th>1</th>\n",
       "      <td>000161a058600d5901f007fab4c27140</td>\n",
       "      <td>2017-07-16 09:40:32</td>\n",
       "      <td>67.41</td>\n",
       "    </tr>\n",
       "    <tr>\n",
       "      <th>2</th>\n",
       "      <td>0001fd6190edaaf884bcaf3d49edf079</td>\n",
       "      <td>2017-02-28 11:06:43</td>\n",
       "      <td>195.42</td>\n",
       "    </tr>\n",
       "    <tr>\n",
       "      <th>3</th>\n",
       "      <td>0002414f95344307404f0ace7a26f1d5</td>\n",
       "      <td>2017-08-16 13:09:20</td>\n",
       "      <td>179.35</td>\n",
       "    </tr>\n",
       "    <tr>\n",
       "      <th>4</th>\n",
       "      <td>000379cdec625522490c315e70c7a9fb</td>\n",
       "      <td>2018-04-02 13:42:17</td>\n",
       "      <td>107.01</td>\n",
       "    </tr>\n",
       "    <tr>\n",
       "      <th>...</th>\n",
       "      <td>...</td>\n",
       "      <td>...</td>\n",
       "      <td>...</td>\n",
       "    </tr>\n",
       "    <tr>\n",
       "      <th>103881</th>\n",
       "      <td>fffecc9f79fd8c764f843e9951b11341</td>\n",
       "      <td>2018-03-29 16:59:26</td>\n",
       "      <td>40.36</td>\n",
       "    </tr>\n",
       "    <tr>\n",
       "      <th>103882</th>\n",
       "      <td>fffeda5b6d849fbd39689bb92087f431</td>\n",
       "      <td>2018-05-22 13:36:02</td>\n",
       "      <td>63.13</td>\n",
       "    </tr>\n",
       "    <tr>\n",
       "      <th>103883</th>\n",
       "      <td>ffff42319e9b2d713724ae527742af25</td>\n",
       "      <td>2018-06-13 16:57:05</td>\n",
       "      <td>214.13</td>\n",
       "    </tr>\n",
       "    <tr>\n",
       "      <th>103884</th>\n",
       "      <td>ffffa3172527f765de70084a7e53aae8</td>\n",
       "      <td>2017-09-02 11:53:32</td>\n",
       "      <td>45.50</td>\n",
       "    </tr>\n",
       "    <tr>\n",
       "      <th>103885</th>\n",
       "      <td>ffffe8b65bbe3087b653a978c870db99</td>\n",
       "      <td>2017-09-29 14:07:03</td>\n",
       "      <td>18.37</td>\n",
       "    </tr>\n",
       "  </tbody>\n",
       "</table>\n",
       "<p>103886 rows × 3 columns</p>\n",
       "</div>"
      ],
      "text/plain": [
       "                             customer_id                 date  moving_avg\n",
       "0       00012a2ce6f8dcda20d059ce98491703  2017-11-14 16:08:26      114.74\n",
       "1       000161a058600d5901f007fab4c27140  2017-07-16 09:40:32       67.41\n",
       "2       0001fd6190edaaf884bcaf3d49edf079  2017-02-28 11:06:43      195.42\n",
       "3       0002414f95344307404f0ace7a26f1d5  2017-08-16 13:09:20      179.35\n",
       "4       000379cdec625522490c315e70c7a9fb  2018-04-02 13:42:17      107.01\n",
       "...                                  ...                  ...         ...\n",
       "103881  fffecc9f79fd8c764f843e9951b11341  2018-03-29 16:59:26       40.36\n",
       "103882  fffeda5b6d849fbd39689bb92087f431  2018-05-22 13:36:02       63.13\n",
       "103883  ffff42319e9b2d713724ae527742af25  2018-06-13 16:57:05      214.13\n",
       "103884  ffffa3172527f765de70084a7e53aae8  2017-09-02 11:53:32       45.50\n",
       "103885  ffffe8b65bbe3087b653a978c870db99  2017-09-29 14:07:03       18.37\n",
       "\n",
       "[103886 rows x 3 columns]"
      ]
     },
     "execution_count": 16,
     "metadata": {},
     "output_type": "execute_result"
    }
   ],
   "source": [
    " query = \"\"\" \n",
    "\n",
    "\n",
    "select customer_id, order_purchase_timestamp, avg(payment_value) over( partition by customer_id order by order_purchase_timestamp \n",
    "rows between 1 preceding and current row) as mov_avg from\n",
    "(select orders.customer_id, orders.order_purchase_timestamp,  payments.payment_value from orders join payments\n",
    "on orders.order_id = payments.order_id) as a\n",
    " \n",
    " \"\"\"\n",
    "cur.execute(query)\n",
    "data = cur.fetchall()\n",
    "data\n",
    "df = pd.DataFrame(data, columns = [\"customer_id\",\"date\",\"moving_avg\"])\n",
    "df"
   ]
  },
  {
   "cell_type": "code",
   "execution_count": null,
   "id": "8cc8774a",
   "metadata": {},
   "outputs": [],
   "source": []
  }
 ],
 "metadata": {
  "kernelspec": {
   "display_name": "Python 3 (ipykernel)",
   "language": "python",
   "name": "python3"
  },
  "language_info": {
   "codemirror_mode": {
    "name": "ipython",
    "version": 3
   },
   "file_extension": ".py",
   "mimetype": "text/x-python",
   "name": "python",
   "nbconvert_exporter": "python",
   "pygments_lexer": "ipython3",
   "version": "3.9.12"
  }
 },
 "nbformat": 4,
 "nbformat_minor": 5
}
